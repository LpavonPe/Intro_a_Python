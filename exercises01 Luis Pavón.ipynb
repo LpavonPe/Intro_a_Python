{
 "cells": [
  {
   "cell_type": "markdown",
   "metadata": {},
   "source": [
    "# Tarea 01\n",
    "\n",
    "Bienvenido(a) a tu primera tarea en Python (🎉). Recuerda que para la tarea no podrás usar ninguna otra herramienta más que las vistas en clase (a menos que se indique lo contrario en las instrucciones)"
   ]
  },
  {
   "cell_type": "markdown",
   "metadata": {},
   "source": [
    "**1.**  Escribe un programa que le pida al usuario un nombre y salude con: \"Hola, `nombre`\""
   ]
  },
  {
   "cell_type": "code",
   "execution_count": 2,
   "metadata": {},
   "outputs": [
    {
     "name": "stdout",
     "output_type": "stream",
     "text": [
      "Ingrese nombre de usuario:Luis\n",
      "Hola, Luis\n"
     ]
    }
   ],
   "source": [
    "nombre = input(\"Ingrese nombre de usuario: \")\n",
    "print(f\"Hola,\",nombre)"
   ]
  },
  {
   "cell_type": "markdown",
   "metadata": {},
   "source": [
    "-------"
   ]
  },
  {
   "cell_type": "markdown",
   "metadata": {},
   "source": [
    "**2.** Escribe un programa que pida un nombre y la edad y salude a la persona con su nombre y su edad más un año:\n",
    "Hola, `nombre`. El proximo año tendrás `edad + 1`.\n",
    "    \n",
    "Por ejemplo, una persona con nombre `Michael` de edad `77`. El programa debe regresar\n",
    "\n",
    "``\n",
    "\"Hola Michael, el próximo año tendrás 78 años\"\n",
    "``"
   ]
  },
  {
   "cell_type": "code",
   "execution_count": 8,
   "metadata": {},
   "outputs": [
    {
     "name": "stdout",
     "output_type": "stream",
     "text": [
      "Ingrese nombre de usuario: ls\n",
      "¿Cual es su edad? : 2\n",
      "Hola ls ,el proximo año tendrás 3 años\n"
     ]
    }
   ],
   "source": [
    "nombre = input(\"Ingrese nombre de usuario: \")\n",
    "edad = int(input(\"¿Cual es su edad? : \"))\n",
    "print(f\"Hola\",nombre, \",el proximo año tendrás\", edad+1, \"años\")"
   ]
  },
  {
   "cell_type": "markdown",
   "metadata": {},
   "source": [
    "-------"
   ]
  },
  {
   "cell_type": "markdown",
   "metadata": {},
   "source": [
    "**3.** Escribe un programa que regrese la suma del número máximo y mínimo dentro de la lista `numbers`.\n",
    "```python\n",
    "numbers = [1, 4, 7, 1, 2, 9, 6]\n",
    "```"
   ]
  },
  {
   "cell_type": "code",
   "execution_count": 15,
   "metadata": {},
   "outputs": [
    {
     "name": "stdout",
     "output_type": "stream",
     "text": [
      "10\n"
     ]
    }
   ],
   "source": [
    "numbers = [1, 4, 7, 1, 2, 9, 6]\n",
    "numbers.sort()\n",
    "print(numbers[0]+numbers[-1])"
   ]
  },
  {
   "cell_type": "markdown",
   "metadata": {},
   "source": [
    "-------"
   ]
  },
  {
   "cell_type": "markdown",
   "metadata": {},
   "source": [
    "**4.** ¿Cuáles son las repuestas a la siguientes expresiones? (Analiza la soluciónantes de ver el resultado en Python) \n",
    "\n",
    "Explica tu razonamiento\n",
    "\n",
    "```python\n",
    "2 ^ 3 // 4\n",
    "\n",
    "0 + 3 / 2 - 2\n",
    "\n",
    "3 ** (1 - 1)\n",
    "\n",
    "3 ** 1 - 1\n",
    "```"
   ]
  },
  {
   "cell_type": "markdown",
   "metadata": {},
   "source": [
    "2 ^ 3 // 4 nos da como resultado 2 ya que primero se hace la división entera, dando como resultado cero y despues compara en binario 2 y 0 con el operador xor por lo que nos regresa dos.\n",
    "0 + 3 / 2 - 2 nos da como resultado -.5 por el orden de las operaciones.\n",
    "3 ** (1 - 1) nos da como resultado 1, ya que cualquier numéro elevado a la 0 nos da 1.\n",
    "3 ** 1 - 1 nos da como resultado 2 ya que primero lleva acabo la operación potencia y despues la resta."
   ]
  },
  {
   "cell_type": "markdown",
   "metadata": {},
   "source": [
    "**5.** Si el pequeño Johny quiere invertir $30\\$$ a una tasa efectiva anual del $7\\%$ por 5 meses, ¿le conviene más invertir su dinero a una tasa compuesta o simple?\n",
    "\n",
    "Argumenta tu resultado númericamente"
   ]
  },
  {
   "cell_type": "code",
   "execution_count": 16,
   "metadata": {},
   "outputs": [
    {
     "name": "stdout",
     "output_type": "stream",
     "text": [
      "La diferencia entre una inversión simple a una compuesta es: $0.017233002568353695\n",
      "Por lo que a Johny le conviene invertir a una tasa simple\n"
     ]
    }
   ],
   "source": [
    "inversion = 30\n",
    "tasa_anual = .07\n",
    "rendimientos_simple = (inversion * tasa_anual)*(5/12)\n",
    "rendimientos_compuesta = (inversion*((1+tasa_anual)**(5/12)))-inversion\n",
    "diferencia_rendimientos = rendimientos_simple - rendimientos_compuesta\n",
    "print(f\"La diferencia entre una inversión simple a una compuesta es: ${rendimientos_simple - rendimientos_compuesta}\")\n",
    "print(\"Por lo que a Johny le conviene invertir a una tasa simple\")"
   ]
  },
  {
   "cell_type": "markdown",
   "metadata": {},
   "source": [
    "-------"
   ]
  },
  {
   "cell_type": "markdown",
   "metadata": {},
   "source": [
    "**6.** Aproxima la derivada de $f(x) = x^2$ al rededor de $x = 3$, con un grado de error porcentual de, al menos, $0.0001666659\\%$\n",
    "\n",
    "Recuerda:\n",
    "$$\n",
    "    \\frac{d}{dx}f(x) := \\lim_{h\\to 0}\\frac{f(x + h) - f(x)}{h}\n",
    "$$"
   ]
  },
  {
   "cell_type": "code",
   "execution_count": 35,
   "metadata": {},
   "outputs": [
    {
     "name": "stdout",
     "output_type": "stream",
     "text": [
      "La derivada alrededor del 3 es:\n",
      "por la izquierda: 6.000000266971394\n",
      "por la derecha: 6.000001669589206\n"
     ]
    }
   ],
   "source": [
    "x = 2.9999993\n",
    "h = 0.000001666659\n",
    "print(\"La derivada alrededor del 3 es:\")\n",
    "derivada_izquierda = (((x+h)**2)-(x**2))/h\n",
    "print(f\"por la izquierda: {derivada_izquierda}\")\n",
    "x = 3.000000001\n",
    "derivada_derecha = (((x+h)**2)-(x**2))/h\n",
    "print(f\"por la derecha: {derivada_derecha}\")"
   ]
  },
  {
   "cell_type": "markdown",
   "metadata": {},
   "source": [
    "-------"
   ]
  },
  {
   "cell_type": "markdown",
   "metadata": {},
   "source": [
    "**7.** Supón que dentro que dentro de una lista mágica hay manzanas verdes (`v`) y manzanas rojas (`r`). Dicha lista se llama `manzanas` y contiene $100$ elementos. Nuestro espacio muestral es equiprobable, por lo que agarrar cualquier manzana tiene la misma probablidad.\n",
    "\n",
    "```python\n",
    "manzanas =['v', 'v', 'r', 'v', 'r', 'r', 'v', 'r', 'v', 'r', 'v', 'r', 'v',\n",
    "           'v', 'r', 'r', 'v', 'r', 'v', 'r', 'r', 'r', 'r', 'r', 'v', 'v',\n",
    "           'r', 'r', 'r', 'r', 'r', 'r', 'r', 'v', 'r', 'r', 'r', 'v', 'r',\n",
    "           'v', 'r', 'r', 'r', 'r', 'v', 'r', 'v', 'v', 'v', 'v', 'v', 'r',\n",
    "           'r', 'v', 'v', 'r', 'r', 'r', 'v', 'v', 'v', 'r', 'r', 'r', 'v',\n",
    "           'v', 'r', 'r', 'v', 'v', 'v', 'v', 'r', 'v', 'v', 'r', 'r', 'v',\n",
    "           'r', 'v', 'r', 'v', 'r', 'r', 'v', 'r', 'r', 'r', 'v', 'r', 'r',\n",
    "           'v', 'r', 'v', 'r', 'v', 'v', 'r', 'r', 'r']\n",
    "```\n",
    "\n",
    "Dada la variabilidad en el orden de los elementos, tienes que programar tu solución. (**NO** lo hagas a mano)\n",
    "\n",
    "1. ¿Cuál es la probabilidad de agarrar una manzana verde?\n",
    "2. ¿Cuál es la probabilidad de agarrar una manzana roja?\n",
    "3. ¿Cuál es la probabilidad de agarrar una manzana verde y después una roja?\n",
    "3. ¿Cuál es la probabilidad de agarrar una manzana roja y después otra roja?"
   ]
  },
  {
   "cell_type": "code",
   "execution_count": 48,
   "metadata": {},
   "outputs": [
    {
     "name": "stdout",
     "output_type": "stream",
     "text": [
      "la probabilidad de agarrar una manzana verde es: 43.0%\n",
      "la probabilidad de agarrar una manzana roja es: 56.99999999999999%\n",
      "la probabilidad de agarrar una manzana verde y después una roja es: 24.509999999999998%\n",
      "la probabilidad de agarrar una manzana roja y después otra roja es: 32.489999999999995%\n"
     ]
    },
    {
     "data": {
      "text/plain": [
       "100"
      ]
     },
     "execution_count": 48,
     "metadata": {},
     "output_type": "execute_result"
    }
   ],
   "source": [
    "manzanas =['v', 'v', 'r', 'v', 'r', 'r', 'v', 'r', 'v', 'r', 'v', 'r', 'v',\n",
    "           'v', 'r', 'r', 'v', 'r', 'v', 'r', 'r', 'r', 'r', 'r', 'v', 'v',\n",
    "           'r', 'r', 'r', 'r', 'r', 'r', 'r', 'v', 'r', 'r', 'r', 'v', 'r',\n",
    "           'v', 'r', 'r', 'r', 'r', 'v', 'r', 'v', 'v', 'v', 'v', 'v', 'r',\n",
    "           'r', 'v', 'v', 'r', 'r', 'r', 'v', 'v', 'v', 'r', 'r', 'r', 'v',\n",
    "           'v', 'r', 'r', 'v', 'v', 'v', 'v', 'r', 'v', 'v', 'r', 'r', 'v',\n",
    "           'r', 'v', 'r', 'v', 'r', 'r', 'v', 'r', 'r', 'r', 'v', 'r', 'r',\n",
    "           'v', 'r', 'v', 'r', 'v', 'v', 'r', 'r', 'r']\n",
    "manzanas.sort()\n",
    "num_rojas = manzanas.index(\"v\")\n",
    "total = len(manzanas)\n",
    "num_verdes= total -num_rojas\n",
    "prob_roja = (num_rojas/total)\n",
    "prob_verde =(num_verdes/total)\n",
    "#¿Cuál es la probabilidad de agarrar una manzana verde?\n",
    "print(f\"la probabilidad de agarrar una manzana verde es: {prob_verde*100}%\")\n",
    "#¿Cuál es la probabilidad de agarrar una manzana roja?\n",
    "print(f\"la probabilidad de agarrar una manzana roja es: {prob_roja*100}%\")\n",
    "#¿Cuál es la probabilidad de agarrar una manzana verde y después una roja?\n",
    "print(f\"la probabilidad de agarrar una manzana verde y después una roja es: {(prob_roja*prob_verde)*100}%\") #asumiendo remplazo\n",
    "#¿Cuál es la probabilidad de agarrar una manzana roja y después otra roja?\n",
    "print(f\"la probabilidad de agarrar una manzana roja y después otra roja es: {(prob_roja**2)*100}%\")\n",
    "total"
   ]
  },
  {
   "cell_type": "code",
   "execution_count": 42,
   "metadata": {},
   "outputs": [
    {
     "data": {
      "text/plain": [
       "57"
      ]
     },
     "execution_count": 42,
     "metadata": {},
     "output_type": "execute_result"
    }
   ],
   "source": [
    "manzanas =['v', 'v', 'r', 'v', 'r', 'r', 'v', 'r', 'v', 'r', 'v', 'r', 'v',\n",
    "           'v', 'r', 'r', 'v', 'r', 'v', 'r', 'r', 'r', 'r', 'r', 'v', 'v',\n",
    "           'r', 'r', 'r', 'r', 'r', 'r', 'r', 'v', 'r', 'r', 'r', 'v', 'r',\n",
    "           'v', 'r', 'r', 'r', 'r', 'v', 'r', 'v', 'v', 'v', 'v', 'v', 'r',\n",
    "           'r', 'v', 'v', 'r', 'r', 'r', 'v', 'v', 'v', 'r', 'r', 'r', 'v',\n",
    "           'v', 'r', 'r', 'v', 'v', 'v', 'v', 'r', 'v', 'v', 'r', 'r', 'v',\n",
    "           'r', 'v', 'r', 'v', 'r', 'r', 'v', 'r', 'r', 'r', 'v', 'r', 'r',\n",
    "           'v', 'r', 'v', 'r', 'v', 'v', 'r', 'r', 'r']\n",
    "manzanas.sort()\n",
    "num_rojas = manzanas.index(\"v\")"
   ]
  },
  {
   "cell_type": "markdown",
   "metadata": {},
   "source": [
    "-------"
   ]
  },
  {
   "cell_type": "markdown",
   "metadata": {},
   "source": [
    "**8.** El string `crypted` contiene un mensaje secreto de dos palabras. Elimina todos los `\"*\"`, `\"g\"` `\"v\"` y convierte el string en una lista de dos elementos con las palabras encriptadas.\n",
    "\n",
    "```python\n",
    "crypted = \"m*gevn*gsva*gjve*g-sve*gcvr*gevt*gov\"\n",
    "```\n"
   ]
  },
  {
   "cell_type": "code",
   "execution_count": 40,
   "metadata": {},
   "outputs": [
    {
     "data": {
      "text/plain": [
       "['mensaje', 'secreto']"
      ]
     },
     "execution_count": 40,
     "metadata": {},
     "output_type": "execute_result"
    }
   ],
   "source": [
    "crypted = \"m*gevn*gsva*gjve*g-sve*gcvr*gevt*gov\"\n",
    "prev1 = crypted.replace(\"*\",\"\")\n",
    "prev2 = prev1.replace(\"g\",\"\")\n",
    "prev3 = prev2.replace(\"v\",\"\")\n",
    "final = prev3.replace(\"-\", \" \")\n",
    "final.split()"
   ]
  },
  {
   "cell_type": "markdown",
   "metadata": {},
   "source": [
    "**9.** Considerando el diccionario `alumnos`, \n",
    "1. obten el color favorito de `\"José\"`\n",
    "2. obten la edad de `\"Johanna\"` y multiplicalo por dos.\n",
    "3. Obten el número de alumnos\n",
    "4. Obten el número características que tiene cualquier alumno\n",
    "\n",
    "```python\n",
    "alumnos = {\n",
    " \"José\": {\n",
    "  \"edad\": 11,\n",
    "  \"color\": \"rojo\",\n",
    "  \"carrera\": \"Administración\"\n",
    " },\n",
    " \"Charlie\": {\n",
    "  \"edad\": 33,\n",
    "  \"color\": \"Violeta\",\n",
    "  \"carrera\": \"Ingeniería\"\n",
    " },\n",
    " \"Luis\": {\n",
    "  \"edad\": 23,\n",
    "  \"color\": \"Negro\",\n",
    "  \"carrera\": \"Matemáticas\"\n",
    " },\n",
    " \"Johanna\": {\n",
    "  \"edad\": 18,\n",
    "  \"color\": \"Gris\",\n",
    "  \"carrera\": \"Finanzas\"\n",
    " }\n",
    "}\n",
    "```"
   ]
  },
  {
   "cell_type": "code",
   "execution_count": 60,
   "metadata": {},
   "outputs": [
    {
     "name": "stdout",
     "output_type": "stream",
     "text": [
      "El color favorito de José es: rojo\n",
      "La edad de Johanna multiplicada por dos es: 36\n",
      "Hay 4 alumnos\n",
      "Cada alumno tiene 3 caracteristicas\n"
     ]
    }
   ],
   "source": [
    "alumnos = {\n",
    " \"José\": {\n",
    "  \"edad\": 11,\n",
    "  \"color\": \"rojo\",\n",
    "  \"carrera\": \"Administración\"\n",
    " },\n",
    " \"Charlie\": {\n",
    "  \"edad\": 33,\n",
    "  \"color\": \"Violeta\",\n",
    "  \"carrera\": \"Ingeniería\"\n",
    " },\n",
    " \"Luis\": {\n",
    "  \"edad\": 23,\n",
    "  \"color\": \"Negro\",\n",
    "  \"carrera\": \"Matemáticas\"\n",
    " },\n",
    " \"Johanna\": {\n",
    "  \"edad\": 18,\n",
    "  \"color\": \"Gris\",\n",
    "  \"carrera\": \"Finanzas\"\n",
    " }\n",
    "}\n",
    "color_josé = alumnos[\"José\"][\"color\"]\n",
    "print(f\"El color favorito de José es: {color_josé}\")\n",
    "edad_Johanna = alumnos[\"Johanna\"][\"edad\"]\n",
    "print(f\"La edad de Johanna multiplicada por dos es: {edad_Johanna*2}\")\n",
    "print(f\"Hay {len(alumnos.keys())} alumnos\")\n",
    "num_car = len(alumnos[\"Luis\"])\n",
    "print(f\"Cada alumno tiene {num_car} caracteristicas\")"
   ]
  },
  {
   "cell_type": "markdown",
   "metadata": {},
   "source": [
    "\n",
    "-------"
   ]
  },
  {
   "cell_type": "markdown",
   "metadata": {},
   "source": [
    "**10.** Considerando el diccionario `people_book`,\n",
    "\n",
    "1. Encuentra todos los libros que Amy y Liam tengan en común\n",
    "2. Encuentra los libros que Amy y Noah tienen en conjunto\n",
    "3. Encuentra los libros que tenga James, pero no tengan Amy y Alexander en conjunto\n",
    "4. Encuentra los libros que solo James o Michael hayan leído, pero no el resto de los lectores\n",
    "\n",
    "```python\n",
    "people_book = {'Amy': {'A Modest Proposal',\n",
    "  'Adventures of Huckleberry Finn',\n",
    "  'Beowulf: An Anglo-Saxon Epic Poem (493)',\n",
    "  'Et dukkehjem. English',\n",
    "  'Frankenstein; Or, The Modern Prometheus',\n",
    "  'Pride and Prejudice',\n",
    "  'The Count of Monte Cristo, Illustrated',\n",
    "  'The Doom of London',\n",
    "  'The Strange Case of Dr. Jekyll and Mr. Hyde',\n",
    "  'War and Peace'},\n",
    " 'Liam': {'A Tale of Two Cities',\n",
    "  'Adventures of Huckleberry Finn',\n",
    "  'Dracula',\n",
    "  'Emma',\n",
    "  'Moby Dick; Or, The Whale',\n",
    "  'The Iliad',\n",
    "  'The Republic',\n",
    "  'The Romance of Lust: A Classic Victorian erotic novel',\n",
    "  'The Strange Case of Dr. Jekyll and Mr. Hyde',\n",
    "  'Ulysses'},\n",
    " 'Noah': {'Adventures of Huckleberry Finn',\n",
    "  'Decisive Battles of America',\n",
    "  'Et dukkehjem. English',\n",
    "  'Frankenstein; Or, The Modern Prometheus',\n",
    "  'The Adventures of Sherlock Holmes',\n",
    "  'The Adventures of Tom Sawyer',\n",
    "  'The Doom of London',\n",
    "  'The Picture of Dorian Gray',\n",
    "  'The Strange Case of Dr. Jekyll and Mr. Hyde',\n",
    "  'War and Peace'},\n",
    " 'Michael': {'A Tale of Two Cities',\n",
    "  \"Alice's Adventures in Wonderland\",\n",
    "  'Beowulf: An Anglo-Saxon Epic Poem (493)',\n",
    "  'Et dukkehjem. English',\n",
    "  'Frankenstein; Or, The Modern Prometheus',\n",
    "  'The Count of Monte Cristo, Illustrated',\n",
    "  'The Iliad',\n",
    "  'The Republic',\n",
    "  'Treasure Island',\n",
    "  'War and Peace'},\n",
    " 'Alexander': {'A Tale of Two Cities',\n",
    "  'Decisive Battles of America',\n",
    "  'Dracula',\n",
    "  \"Grimms' Fairy Tales\",\n",
    "  'The Doom of London',\n",
    "  'The Importance of Being Earnest: A Trivial Comedy for Serious People',\n",
    "  'The Romance of Lust: A Classic Victorian erotic novel',\n",
    "  'The Strange Case of Dr. Jekyll and Mr. Hyde',\n",
    "  'The Yellow Wallpaper',\n",
    "  'War and Peace'},\n",
    " 'James': {'Dracula',\n",
    "  'Et dukkehjem. English',\n",
    "  \"Grimms' Fairy Tales\",\n",
    "  'Heart of Darkness',\n",
    "  'Pride and Prejudice',\n",
    "  'The Adventures of Tom Sawyer',\n",
    "  'The Count of Monte Cristo, Illustrated',\n",
    "  'The Iliad',\n",
    "  'The Republic',\n",
    "  'The Romance of Lust: A Classic Victorian erotic novel'},\n",
    " 'Joseph': {'A Tale of Two Cities',\n",
    "  'Emma',\n",
    "  'Et dukkehjem. English',\n",
    "  'Heart of Darkness',\n",
    "  'Moby Dick; Or, The Whale',\n",
    "  'Pride and Prejudice',\n",
    "  'The Adventures of Tom Sawyer',\n",
    "  'Treasure Island',\n",
    "  'Ulysses',\n",
    "  'War and Peace'}}\n",
    "```"
   ]
  },
  {
   "cell_type": "code",
   "execution_count": 62,
   "metadata": {},
   "outputs": [],
   "source": [
    "people_book = {'Amy': {'A Modest Proposal',\n",
    "  'Adventures of Huckleberry Finn',\n",
    "  'Beowulf: An Anglo-Saxon Epic Poem (493)',\n",
    "  'Et dukkehjem. English',\n",
    "  'Frankenstein; Or, The Modern Prometheus',\n",
    "  'Pride and Prejudice',\n",
    "  'The Count of Monte Cristo, Illustrated',\n",
    "  'The Doom of London',\n",
    "  'The Strange Case of Dr. Jekyll and Mr. Hyde',\n",
    "  'War and Peace'},\n",
    " 'Liam': {'A Tale of Two Cities',\n",
    "  'Adventures of Huckleberry Finn',\n",
    "  'Dracula',\n",
    "  'Emma',\n",
    "  'Moby Dick; Or, The Whale',\n",
    "  'The Iliad',\n",
    "  'The Republic',\n",
    "  'The Romance of Lust: A Classic Victorian erotic novel',\n",
    "  'The Strange Case of Dr. Jekyll and Mr. Hyde',\n",
    "  'Ulysses'},\n",
    " 'Noah': {'Adventures of Huckleberry Finn',\n",
    "  'Decisive Battles of America',\n",
    "  'Et dukkehjem. English',\n",
    "  'Frankenstein; Or, The Modern Prometheus',\n",
    "  'The Adventures of Sherlock Holmes',\n",
    "  'The Adventures of Tom Sawyer',\n",
    "  'The Doom of London',\n",
    "  'The Picture of Dorian Gray',\n",
    "  'The Strange Case of Dr. Jekyll and Mr. Hyde',\n",
    "  'War and Peace'},\n",
    " 'Michael': {'A Tale of Two Cities',\n",
    "  \"Alice's Adventures in Wonderland\",\n",
    "  'Beowulf: An Anglo-Saxon Epic Poem (493)',\n",
    "  'Et dukkehjem. English',\n",
    "  'Frankenstein; Or, The Modern Prometheus',\n",
    "  'The Count of Monte Cristo, Illustrated',\n",
    "  'The Iliad',\n",
    "  'The Republic',\n",
    "  'Treasure Island',\n",
    "  'War and Peace'},\n",
    " 'Alexander': {'A Tale of Two Cities',\n",
    "  'Decisive Battles of America',\n",
    "  'Dracula',\n",
    "  \"Grimms' Fairy Tales\",\n",
    "  'The Doom of London',\n",
    "  'The Importance of Being Earnest: A Trivial Comedy for Serious People',\n",
    "  'The Romance of Lust: A Classic Victorian erotic novel',\n",
    "  'The Strange Case of Dr. Jekyll and Mr. Hyde',\n",
    "  'The Yellow Wallpaper',\n",
    "  'War and Peace'},\n",
    " 'James': {'Dracula',\n",
    "  'Et dukkehjem. English',\n",
    "  \"Grimms' Fairy Tales\",\n",
    "  'Heart of Darkness',\n",
    "  'Pride and Prejudice',\n",
    "  'The Adventures of Tom Sawyer',\n",
    "  'The Count of Monte Cristo, Illustrated',\n",
    "  'The Iliad',\n",
    "  'The Republic',\n",
    "  'The Romance of Lust: A Classic Victorian erotic novel'},\n",
    " 'Joseph': {'A Tale of Two Cities',\n",
    "  'Emma',\n",
    "  'Et dukkehjem. English',\n",
    "  'Heart of Darkness',\n",
    "  'Moby Dick; Or, The Whale',\n",
    "  'Pride and Prejudice',\n",
    "  'The Adventures of Tom Sawyer',\n",
    "  'Treasure Island',\n",
    "  'Ulysses',\n",
    "  'War and Peace'}}"
   ]
  },
  {
   "cell_type": "code",
   "execution_count": 69,
   "metadata": {},
   "outputs": [
    {
     "name": "stdout",
     "output_type": "stream",
     "text": [
      "1. {'The Strange Case of Dr. Jekyll and Mr. Hyde', 'Adventures of Huckleberry Finn'}\n",
      "2. {'The Adventures of Tom Sawyer', 'The Picture of Dorian Gray', 'Adventures of Huckleberry Finn', 'War and Peace', 'Pride and Prejudice', 'The Adventures of Sherlock Holmes', 'The Doom of London', 'Decisive Battles of America', 'A Modest Proposal', 'The Strange Case of Dr. Jekyll and Mr. Hyde', 'Beowulf: An Anglo-Saxon Epic Poem (493)', 'Frankenstein; Or, The Modern Prometheus', 'The Count of Monte Cristo, Illustrated', 'Et dukkehjem. English'}\n",
      "3. {'The Adventures of Tom Sawyer', 'The Republic', 'The Iliad', 'Heart of Darkness'}\n",
      "4. {\"Alice's Adventures in Wonderland\"}\n"
     ]
    }
   ],
   "source": [
    "libros_comun_Amy_Liam = people_book[\"Amy\"] & people_book[\"Liam\"]\n",
    "libros_conjunto_Amy_Noah = people_book['Amy'] | people_book['Noah']\n",
    "libros_James_no_conjunto_Amy_Alexander = people_book['James']-(people_book['Amy'] | people_book['Alexander'])\n",
    "libros_solo_James_Michael = (people_book['James'] | people_book['Michael'])-(people_book['Alexander']|people_book['Amy']|people_book['Joseph']|people_book['Liam']|people_book['Noah'])\n",
    "print(f\"1. {libros_comun_Amy_Liam}\")\n",
    "print(f\"2. {libros_conjunto_Amy_Noah}\")\n",
    "print(f\"3. {libros_James_no_conjunto_Amy_Alexander}\")\n",
    "print(f\"4. {libros_solo_James_Michael}\")"
   ]
  },
  {
   "cell_type": "markdown",
   "metadata": {},
   "source": [
    "\n",
    "-------"
   ]
  },
  {
   "cell_type": "markdown",
   "metadata": {},
   "source": [
    "**11.** ¿Cuál es tu materia favorita?"
   ]
  },
  {
   "cell_type": "raw",
   "metadata": {},
   "source": [
    "Intro a la computación"
   ]
  },
  {
   "cell_type": "markdown",
   "metadata": {},
   "source": [
    "**12.** ¿Sobre qué te gustaría aprender más?"
   ]
  },
  {
   "cell_type": "raw",
   "metadata": {},
   "source": [
    "Otros usos de Python fuera de la actuaría"
   ]
  },
  {
   "cell_type": "markdown",
   "metadata": {},
   "source": [
    "**13.** ¿Algo que agregar?"
   ]
  },
  {
   "cell_type": "raw",
   "metadata": {},
   "source": [
    "Creo que nos sería de mucha utilidad checar las tareas o bien tener la versión correcta de las tareas para saber si lo hicimos bien o no."
   ]
  }
 ],
 "metadata": {
  "kernelspec": {
   "display_name": "Python 3",
   "language": "python",
   "name": "python3"
  },
  "language_info": {
   "codemirror_mode": {
    "name": "ipython",
    "version": 3
   },
   "file_extension": ".py",
   "mimetype": "text/x-python",
   "name": "python",
   "nbconvert_exporter": "python",
   "pygments_lexer": "ipython3",
   "version": "3.6.5"
  }
 },
 "nbformat": 4,
 "nbformat_minor": 2
}
