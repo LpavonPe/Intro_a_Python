{
 "cells": [
  {
   "cell_type": "markdown",
   "metadata": {},
   "source": [
    "Complemento tarea 1. Ejercicios de listas, diccionarios y tuplets\n",
    "Luis Pavón"
   ]
  },
  {
   "cell_type": "markdown",
   "metadata": {},
   "source": [
    "Ejercicio 1.\n",
    "Dado el diccionario vocales, accede al primer elemento dentro de la llave \"minusculas\""
   ]
  },
  {
   "cell_type": "code",
   "execution_count": 2,
   "metadata": {},
   "outputs": [
    {
     "data": {
      "text/plain": [
       "'a'"
      ]
     },
     "execution_count": 2,
     "metadata": {},
     "output_type": "execute_result"
    }
   ],
   "source": [
    "vocales = {\n",
    " \"mayusculas\": ['A', 'E', 'I', 'O', 'U'],\n",
    " \"minusculas\": ['a', 'e', 'i', 'o', 'u']\n",
    "}\n",
    "vocales[\"minusculas\"][0] ##llamamos a la lista de valores asociados a \"Minusculas\" y \n",
    "                         ##después llamamos al primer elemento de la lista"
   ]
  },
  {
   "cell_type": "markdown",
   "metadata": {},
   "source": [
    "2. Modifica el diccionario alumnos de tal manera que cada llave del diccionario sea el nombre del estudiante y el valor \n",
    "un diccionario adicional con las llaves \"edad\", \"color_favorito\", \"carrera\", asignados a sus valores correspondientes."
   ]
  },
  {
   "cell_type": "markdown",
   "metadata": {},
   "source": [
    "¿Cuál es la longitud del set {'q', 'u', 'e', 'u', 'e'}? Explica\n",
    "la longitud es 4 ya que es un diccionario con 3 elementos distintos."
   ]
  },
  {
   "cell_type": "code",
   "execution_count": 26,
   "metadata": {},
   "outputs": [
    {
     "data": {
      "text/plain": [
       "[33]"
      ]
     },
     "execution_count": 26,
     "metadata": {},
     "output_type": "execute_result"
    }
   ],
   "source": [
    "alumnos = {                                          ##Definimos el diccionario alumnos\n",
    "    \"José\":    [11, \"rojo\", \"Administración\"],\n",
    "    \"Charlie\": [33, \"Violeta\", \"Ingeniería\"],\n",
    "    \"Luis\": [23, \"Negro\", \"Matemáticas\"],\n",
    "    \"Johanna\": [18, \"Gris\", \"Finanzas\"]\n",
    "}\n",
    "nom = list(alumnos.keys())                           ##Convertimos los nombres de los alumnos a lista para\n",
    "                                                     ## poder indexarlo despues.\n",
    "    \n",
    "edades = { \"José\": [alumnos[\"José\"][0]],\n",
    "          \"Charlie\": [alumnos[\"Charlie\"][0]],        ##Guardamos las edades de los alumnos en un diccionario.\n",
    "           \"Luis\" :[alumnos[\"Luis\"][0]],\n",
    "           \"Johanna\": [alumnos[\"Johanna\"][0]]\n",
    "         }\n",
    "\n",
    "color_favorito = { \"José\": [alumnos[\"José\"][1]],    ##Guardamos los colores favoritos de los alumnos en un diccionario.\n",
    "           \"Charlie\": [alumnos[\"Charlie\"][1]],\n",
    "           \"Luis\" :[alumnos[\"Luis\"][1]],\n",
    "           \"Johanna\": [alumnos[\"Johanna\"][1]]\n",
    "         }\n",
    "carrera = { \"José\": [alumnos[\"José\"][2]],          ##Guardamos las carreras de los alumnos en un diccionario.\n",
    "           \"Charlie\": [alumnos[\"Charlie\"][2]],\n",
    "           \"Luis\" :[alumnos[\"Luis\"][2]],\n",
    "           \"Johanna\": [alumnos[\"Johanna\"][2]]\n",
    "         }\n",
    "\n",
    "alumnos_por_categoria = {nom[0]: {\"edad\": edades[\"José\"],     ## Definimos un nuevo diccionario que toma como llaves \n",
    "                     \"Color\": color_favorito[\"José\"],         ## los nombres de los alumnos y el contenido de cada\n",
    "                     \"Carrera\": carrera[\"José\"]},             ## llave es una colección de los diccionarios anteriores\n",
    "           nom[1]:{\"edad\": edades[\"Charlie\"],                 ## evaluados en los valores de cada uno de los alumnos.\n",
    "                     \"Color\": color_favorito[\"Charlie\"],\n",
    "                     \"Carrera\": carrera[\"Charlie\"]},\n",
    "           nom[2]:{\"edad\": edades[\"Luis\"],\n",
    "                     \"Color\": color_favorito[\"Luis\"],\n",
    "                     \"Carrera\": carrera[\"Luis\"]},\n",
    "           nom[3]: {\"edad\": edades[\"Johanna\"],\n",
    "                     \"Color\": color_favorito[\"Johanna\"],\n",
    "                     \"Carrera\": carrera[\"Johanna\"] }}\n",
    "\n",
    "\n",
    "alumnos_por_categoria[\"Charlie\"][\"edad\"]                   ##probamos que el algoritmo funcione con un ejemplo"
   ]
  },
  {
   "cell_type": "code",
   "execution_count": 10,
   "metadata": {},
   "outputs": [
    {
     "data": {
      "text/plain": [
       "3"
      ]
     },
     "execution_count": 10,
     "metadata": {},
     "output_type": "execute_result"
    }
   ],
   "source": [
    "len({\"q\", \"u\", \"e\", \"u\", \"e\"})"
   ]
  },
  {
   "cell_type": "markdown",
   "metadata": {},
   "source": [
    "Considerando los conjuntos investor1, investor2 e investor3\n",
    "\n",
    "    Encuentra todas las acciones que investor1, investor2, investor3 e investor4 tienen en conjunto\n",
    "    Encuentra las acciones que investor1, investor3 e investor4 tienen en común\n"
   ]
  },
  {
   "cell_type": "code",
   "execution_count": 20,
   "metadata": {},
   "outputs": [
    {
     "name": "stdout",
     "output_type": "stream",
     "text": [
      "Las acciones conjuntas son: \n",
      "{'SITES', 'MFRISCO', 'CADU', 'INGEAL', 'AUTLAN', 'ELEKTRA', 'ARA', 'BIMBO', 'GENTERA', 'ALPEK', 'GPH', 'ACCELSA', 'CHDRAUI', 'GCC', 'FEMSA', 'GEO', 'ANB', 'LAB', 'OMA', 'GFNORTE', 'IDEAL', 'NEMAK', 'TEAK', 'CUERVO', 'GAP', 'ACTINVR', 'ELEMENT', 'QBINDUS', 'AGRIEXP', 'BEVIDES', 'LASEG', 'VISTA', 'CABLE', 'CMOCTEZ', 'MEDICA', 'IENOVA', 'FINAMEX', 'GICSA', 'JAVER', 'COLLADO', 'SAVIA', 'LAMOSA', 'CIE', 'GNP', 'TRAXION', 'BOLSA', 'MEXCHEM', 'HOTEL', 'KIMBER', 'ALSEA', 'AHMSA', 'SPORT', 'URBI', 'GMD', 'TEKCHEM'}\n",
      "Las acciones en comun son:\n",
      "set()\n"
     ]
    }
   ],
   "source": [
    "investor1 = {\"HOTEL\", \"CHDRAUI\", \"ALPEK\", \"VISTA\", \"MFRISCO\", \"AHMSA\", \"LAB\", \"SPORT\", \"SAVIA\", \"LASEG\"}\n",
    "investor2 = {\"CMOCTEZ\", \"BEVIDES\", \"OMA\", \"GNP\", \"AGRIEXP\", \"SPORT\", \"TRAXION\", \"GENTERA\", \"COLLADO\", \"LAMOSA\"}\n",
    "investor3 = {\"FEMSA\", \"ALSEA\", \"BIMBO\", \"ELEMENT\", \"FINAMEX\", \"GCC\", \"VISTA\", \"GEO\", \"IENOVA\", \"OMA\", \"CADU\", \"ANB\", \"AUTLAN\", \"GICSA\", \"GFNORTE\", \"IDEAL\", \"MEXCHEM\", \"ELEKTRA\", \"SITES\", \"CABLE\"}\n",
    "investor4 = {\"GENTERA\", \"BOLSA\", \"VISTA\", \"TEAK\", \"ACCELSA\", \"CUERVO\", \"TEKCHEM\", \"QBINDUS\", \"MEDICA\", \"URBI\", \"CIE\", \"NEMAK\", \"KIMBER\", \"GPH\", \"GMD\", \"ACTINVR\", \"GAP\", \"JAVER\", \"INGEAL\", \"ARA\"}\n",
    "##Parte 1\n",
    "\n",
    "Acciones_conjuntas = investor1 | investor2 | investor3 | investor4  ##Al ser conjuntos los unimos\n",
    "print(\"Las acciones conjuntas son: \")\n",
    "print(Acciones_conjuntas)\n",
    "\n",
    "##Parte 2\n",
    "Acciones_comun = investor1 & investor2 & investor3 & investor4     ##Al ser conjuntos los intersectamos\n",
    "print(\"Las acciones en comun son:\")\n",
    "print(Acciones_comun)\n"
   ]
  }
 ],
 "metadata": {
  "kernelspec": {
   "display_name": "Python 3",
   "language": "python",
   "name": "python3"
  },
  "language_info": {
   "codemirror_mode": {
    "name": "ipython",
    "version": 3
   },
   "file_extension": ".py",
   "mimetype": "text/x-python",
   "name": "python",
   "nbconvert_exporter": "python",
   "pygments_lexer": "ipython3",
   "version": "3.6.5"
  }
 },
 "nbformat": 4,
 "nbformat_minor": 2
}
