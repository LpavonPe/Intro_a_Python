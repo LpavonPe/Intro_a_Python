{
 "cells": [
  {
   "cell_type": "code",
   "execution_count": 1,
   "metadata": {},
   "outputs": [],
   "source": [
    "## Tarea 1 Luis Medardo Pavón Pérez"
   ]
  },
  {
   "cell_type": "code",
   "execution_count": 11,
   "metadata": {},
   "outputs": [
    {
     "name": "stdout",
     "output_type": "stream",
     "text": [
      "ingresa el primer numero 1\n",
      "ingresa el segundo numero 1\n",
      "ingresa el tercer numero 1\n",
      "El resultado es  3\n"
     ]
    }
   ],
   "source": [
    "## 1. Escribe un programa que le pida al usuario tres números y regrese la suma de sus resultados.\n",
    "Primer_numero = input(\"ingresa el primer numero \") ## Nos pide el primer Número\n",
    "Segundo_numero = input(\"ingresa el segundo numero \") ##Nos pide el Segundo Número\n",
    "Tercer_numero = input(\"ingresa el tercer numero \") ##Nos pide el Tercer Número\n",
    "\n",
    "Suma = int(Primer_numero) + int(Segundo_numero) + int(Tercer_numero) ## Convierte cada número en entero y los suma\n",
    "print(\"El resultado es \", Suma) ## Imprime la suma\n",
    "\n"
   ]
  },
  {
   "cell_type": "code",
   "execution_count": 2,
   "metadata": {},
   "outputs": [
    {
     "name": "stdout",
     "output_type": "stream",
     "text": [
      "¿Cual es tu nombre? Luis\n",
      "¿Cual es tu edad? 2\n",
      "Luis\n",
      "Luis\n"
     ]
    }
   ],
   "source": [
    "## 2.Escribe un programa que pida el nombre y la edad del usuario. Posteriormente, deberá imprimir el nombre del usuario\n",
    "##repetido el mismo número de su edad; cada repetición del nombre en una nueva línea.\n",
    "\n",
    "Nombre_de_usuario = input(\"¿Cual es tu nombre? \") ##Pide el nombre del usuario\n",
    "Edad = input(\"¿Cual es tu edad? \") ##Pide la edad del usuario\n",
    "Edad_entero = int(Edad) ##Convierte la edad en un entero\n",
    "for i in range(Edad_entero): ## abre un ciclo for para el numero de impresiones\n",
    "   print(Nombre_de_usuario)  ## visto en Stackoverflow"
   ]
  },
  {
   "cell_type": "code",
   "execution_count": 10,
   "metadata": {},
   "outputs": [
    {
     "name": "stdout",
     "output_type": "stream",
     "text": [
      "¿Cual es tu nombre? Luis\n",
      "¿Cual es tu edad? 3\n",
      "Luis\n",
      "Luis\n",
      "Luis\n",
      "\n"
     ]
    }
   ],
   "source": [
    "## Version sin for loop del problema 2\n",
    "Nombre_de_usuario = input(\"¿Cual es tu nombre? \") ##Pide el nombre del usuario\n",
    "Edad = input(\"¿Cual es tu edad? \") ##Pide la edad del usuario\n",
    "print(int(Edad)* f\"{Nombre_de_usuario}\\n\") ##Convertimos la edad a entero y le añadimos \\n al nombre para hacer el\n",
    "                                           ## salto de linea y mandamos imprimir todo."
   ]
  },
  {
   "cell_type": "code",
   "execution_count": 32,
   "metadata": {},
   "outputs": [
    {
     "name": "stdout",
     "output_type": "stream",
     "text": [
      "En te tite tato de tigo,te tite tige comían tigo.Comían tigo, te tite tige,en te tite tato de tigo.\n"
     ]
    }
   ],
   "source": [
    "## 3.Considerando la variable trabalenguas (definida abajo, elimina todas las \"r\" y \"s\" del string\n",
    "\n",
    "trabalenguas = \"\"\"En tres tristes trastos de trigo,tres tristes tigres comían trigo.Comían trigo, tres tristes tigres,en tres tristes trastos de trigo.\"\"\"\n",
    "Modificacion_trabalenguas = trabalenguas.replace(\"r\",\"\") ## Guardamos en una variable el trabalenguas sin \"r\"\n",
    "final_trabalenguas = Modificacion_trabalenguas.replace(\"s\",\"\")## Quitamos las \"s\" del trabalenguas modificado\n",
    "print(final_trabalenguas) #Imprimimos el trabalenguas modificado"
   ]
  },
  {
   "cell_type": "code",
   "execution_count": 36,
   "metadata": {},
   "outputs": [
    {
     "name": "stdout",
     "output_type": "stream",
     "text": [
      "Introdusca una frase: Como valuar un forward-starting swap\n",
      "Despues de que palabra quiere que se imprima: un\n",
      "forward-starting swap\n"
     ]
    }
   ],
   "source": [
    "## 4.Escribe un programa que le pida al usuario una frase y una palabra_objetivo; \n",
    "##el programa deberá imprimir en la pantalla todos los carácteres posteriores (no espacios) a la palabra objetivo.\n",
    "\n",
    "frase = input(\"Introdusca una frase: \") ##Pedimos la frase deseada por el usuario\n",
    "palabra = input(\"Despues de que palabra quiere que se imprima: \") ## Pedimos la palabra despues de la cual quiere ver\n",
    "temp1 = len(palabra) ##Calculamos la longitud de la palabra dada\n",
    "posicion_inicial = frase.find(palabra) ## buscamos la posición en la que empieza la palabra dada\n",
    "Ini = posicion_inicial + temp1+1 ## Establecemos la posición inicial desde la cual imprimiremos quitando un espacio\n",
    "print(frase[Ini:]) ## imprimimos la porción de la frase deseada\n"
   ]
  }
 ],
 "metadata": {
  "kernelspec": {
   "display_name": "Python 3",
   "language": "python",
   "name": "python3"
  },
  "language_info": {
   "codemirror_mode": {
    "name": "ipython",
    "version": 3
   },
   "file_extension": ".py",
   "mimetype": "text/x-python",
   "name": "python",
   "nbconvert_exporter": "python",
   "pygments_lexer": "ipython3",
   "version": "3.6.5"
  }
 },
 "nbformat": 4,
 "nbformat_minor": 2
}
